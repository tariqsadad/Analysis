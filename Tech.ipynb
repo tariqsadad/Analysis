{
  "nbformat": 4,
  "nbformat_minor": 0,
  "metadata": {
    "colab": {
      "provenance": [],
      "authorship_tag": "ABX9TyPlXF2lpKEN7IL0tGzL3c8S",
      "include_colab_link": true
    },
    "kernelspec": {
      "name": "python3",
      "display_name": "Python 3"
    },
    "language_info": {
      "name": "python"
    }
  },
  "cells": [
    {
      "cell_type": "markdown",
      "metadata": {
        "id": "view-in-github",
        "colab_type": "text"
      },
      "source": [
        "<a href=\"https://colab.research.google.com/github/tariqsadad/Analysis/blob/main/Tech.ipynb\" target=\"_parent\"><img src=\"https://colab.research.google.com/assets/colab-badge.svg\" alt=\"Open In Colab\"/></a>"
      ]
    },
    {
      "cell_type": "code",
      "execution_count": 1,
      "metadata": {
        "colab": {
          "base_uri": "https://localhost:8080/"
        },
        "id": "iXIU9b7VtWwp",
        "outputId": "30b56764-a574-4d11-f921-2db8170912c2"
      },
      "outputs": [
        {
          "output_type": "stream",
          "name": "stdout",
          "text": [
            "6\n"
          ]
        }
      ],
      "source": [
        "x=2\n",
        "y=3\n",
        "z= x*y\n",
        "print (z)"
      ]
    },
    {
      "cell_type": "markdown",
      "source": [],
      "metadata": {
        "id": "bqtt0GxCuTTY"
      }
    },
    {
      "cell_type": "markdown",
      "source": [
        "##summation"
      ],
      "metadata": {
        "id": "uXbusRfTtq8C"
      }
    },
    {
      "cell_type": "markdown",
      "source": [
        "### this is\n",
        "*one\n",
        "*two"
      ],
      "metadata": {
        "id": "IshCePbCuUM_"
      }
    }
  ]
}